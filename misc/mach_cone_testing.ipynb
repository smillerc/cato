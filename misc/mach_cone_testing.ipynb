{
 "cells": [
  {
   "cell_type": "code",
   "execution_count": 1,
   "metadata": {},
   "outputs": [],
   "source": [
    "import numpy as np\n",
    "import matplotlib.pyplot as plt\n",
    "import matplotlib.patches as patches\n",
    "import seaborn as sns\n",
    "sns.set_context('talk')"
   ]
  },
  {
   "cell_type": "code",
   "execution_count": null,
   "metadata": {},
   "outputs": [],
   "source": [
    "class Vector(object):\n",
    "\n",
    "    def __init__(self, xy):\n",
    "        # xy = [[x,y], [tail,head]]\n",
    "        self.x = xy[:, 0]\n",
    "        self.y = xy[:, 1]\n",
    "        self.dx = self.x[1] - self.x[0]\n",
    "        self.dy = self.y[1] - self.y[0]\n",
    "        self.len = np.sqrt(self.dx**2 + self.dy**2)\n",
    "#         print('dx: ', self.dx)\n",
    "#         print('dy: ', self.dy)\n",
    "#         print('len: ', self.len)\n",
    "\n",
    "\n",
    "class MachCone(object):\n",
    "\n",
    "    def __init__(self, tau, e1, e2, ref_state):\n",
    "        gamma = 5.0 / 3.0\n",
    "        self.tau = tau\n",
    "        self.rho_tilde = ref_state[0]\n",
    "        self.p_tilde = ref_state[3]\n",
    "        self.u_tilde = ref_state[1]\n",
    "        self.v_tilde = ref_state[2]\n",
    "        self.a_tilde = np.sqrt(gamma * self.p_tilde / self.rho_tilde)\n",
    "        self.radius = self.tau * self.a_tilde\n",
    "        self.p_xy = e1[0]\n",
    "        self.p_prime_xy = [\n",
    "            self.p_xy[0] - self.u_tilde * self.tau,\n",
    "            self.p_xy[1] - self.v_tilde * self.tau,\n",
    "        ]\n",
    "        self.e1 = e1  # [[x,y], [tail,head]]\n",
    "        self.e2 = e2\n",
    "        v1 = Vector(e1)\n",
    "        v2 = Vector(e2)\n",
    "\n",
    "        self.sin_alpha = np.array([v1.dy / v1.len, v2.dy / v2.len])\n",
    "        self.cos_alpha = np.array([v1.dx / v1.len, v2.dx / v2.len])\n",
    "#         self.sin_alpha = np.array([v1.dy, v2.dy])\n",
    "#         self.cos_alpha = np.array([v1.dx, v2.dx])\n",
    "\n",
    "        self.b_k = np.abs(self.u_tilde * self.cos_alpha - self.v_tilde*self.sin_alpha)\n",
    "        print('b_k:', self.b_k, 'a:', self.a_tilde)\n",
    "        \n",
    "        self.calc_lk()\n",
    "        self.calc_theta_kl()\n",
    "        \n",
    "        \n",
    "        print('sin(alpha): ', self.sin_alpha)\n",
    "        print('cos(alpha): ', self.cos_alpha)\n",
    "        print('l_k: ', self.l_k)\n",
    "        \n",
    "        self.calc_intersections()\n",
    "        self.calc_arc_thetas()\n",
    "        print('n_k:', self.n_intersections)\n",
    "        print('theta_ib:', np.rad2deg(self.theta_ib))\n",
    "        print('theta_ie:', np.rad2deg(self.theta_ie))\n",
    "        \n",
    "    def calc_lk(self):\n",
    "        self.l_k = np.zeros([2, 2])\n",
    "        for i in range(2):\n",
    "\n",
    "            self.l_k[i, 0] = -self.tau * (\n",
    "                self.u_tilde * self.cos_alpha[i] +\n",
    "                self.v_tilde * self.sin_alpha[i]\n",
    "            ) - self.tau * np.sqrt(self.a_tilde**2 -\n",
    "                                   (self.u_tilde * self.cos_alpha[i] -\n",
    "                                    self.v_tilde * self.sin_alpha[i])**2)\n",
    "            self.l_k[i, 1] = -self.tau * (\n",
    "                self.u_tilde * self.cos_alpha[i] +\n",
    "                self.v_tilde * self.sin_alpha[i]\n",
    "            ) + self.tau * np.sqrt(self.a_tilde**2 +\n",
    "                                   (self.u_tilde * self.cos_alpha[i] -\n",
    "                                    self.v_tilde * self.sin_alpha[i])**2)\n",
    "\n",
    "    def calc_theta_kl(self):\n",
    "        self.theta_kl = np.zeros([2, 2])\n",
    "        for k in range(2):\n",
    "            for l in range(2):\n",
    "                cos_alpha_kl = (self.u_tilde + self.l_k[k, l] * self.cos_alpha[k]) / self.a_tilde\n",
    "                sin_alpha_kl = (self.v_tilde + self.l_k[k, l] * self.sin_alpha[k]) / self.a_tilde\n",
    "                self.theta_kl[k, l] = np.pi + np.sign(sin_alpha_kl) * (np.arccos(cos_alpha_kl) - np.pi)\n",
    "                print(f'theta_kl: {np.rad2deg(self.theta_kl[k, l]):.2f}, {np.rad2deg(self.theta_kl[k, l]):.2f}')\n",
    "        \n",
    "    def calc_intersections(self):\n",
    "        self.n_intersections = np.zeros(2)\n",
    "        for k in range(2):\n",
    "            if (self.b_k[k] > self.a_tilde) or (self.l_k[k, 0] <= self.l_k[k,1] < 0):\n",
    "                self.n_intersections[k] = 0\n",
    "            elif (self.l_k[k,1] >= 0) and (self.l_k[k,0] < 0):\n",
    "                self.n_intersections[k] = 1\n",
    "            else:\n",
    "                self.n_intersections[k] = 2\n",
    "        \n",
    "    def calc_arc_thetas(self):\n",
    "        theta_ib = np.zeros([2,2])\n",
    "        theta_ie = np.zeros([2,2])\n",
    "        theta11 = self.theta_kl[0,0]\n",
    "        theta12 = self.theta_kl[0,1]\n",
    "        theta21 = self.theta_kl[1,0]\n",
    "        theta22 = self.theta_kl[1,1]\n",
    "        \n",
    "        n1 = self.n_intersections[0]\n",
    "        n2 = self.n_intersections[1]\n",
    "        \n",
    "        if n1 == n2 == 1:\n",
    "            theta_ib[:,:] = theta12\n",
    "            if theta22 >= theta12:\n",
    "                theta_ie[:,:] = theta22\n",
    "            else:\n",
    "                theta_ie[:,:] = theta22 + 2*np.pi\n",
    "                \n",
    "        self.theta_ib = theta_ib\n",
    "        self.theta_ie = theta_ie\n",
    "        \n",
    "    def plot(self):\n",
    "        fig, ax = plt.subplots(figsize=(8, 8))\n",
    "        ax.set_aspect(\"equal\")\n",
    "        plt.plot(self.p_xy[0], self.p_xy[1], \"o\", label=\"P\")\n",
    "        plt.plot(self.p_prime_xy[0], self.p_prime_xy[1], \"o\", label=\"p'\")\n",
    "\n",
    "#         edge1 = plt.arrow(\n",
    "#             x=self.p_xy[0],\n",
    "#             y=self.p_xy[1],\n",
    "#             dx=self.e1[1, 0] - self.e1[0, 0],\n",
    "#             dy=self.e1[1, 1] - self.e1[0, 1],\n",
    "#             width=0.0025,\n",
    "#             label=\"edge 1\",\n",
    "#         )\n",
    "        \n",
    "        plt.plot(self.e1[0,:], self.e1[1,:])\n",
    "        plt.plot(self.e2[0,:], self.e2[1,:])\n",
    "        \n",
    "#         edge2 = plt.arrow(\n",
    "#             x=self.p_xy[0],\n",
    "#             y=self.p_xy[1],\n",
    "#             dx=self.e2[1, 0] - self.e2[0, 0],\n",
    "#             dy=self.e2[1, 1] - self.e2[0, 1],\n",
    "#             width=0.0025,\n",
    "#             label=\"edge 2\",\n",
    "#         )\n",
    "\n",
    "        circle = plt.Circle(self.p_prime_xy, self.radius, color=\"grey\", fill=False)\n",
    "        ax.add_artist(circle)\n",
    "        minn = np.min([self.e1, self.e2])\n",
    "        maxx = np.max([self.e1, self.e2])\n",
    "        plt.xlim(minn,maxx)\n",
    "        plt.ylim(minn,maxx)\n",
    "        plt.legend()\n",
    "        plt.grid()\n",
    "        plt.show()\n",
    "\n",
    "# tau = .1\n",
    "\n",
    "e1 = np.array([[0, 0], [-1, 0]])\n",
    "e2 = np.array([[0, 0], [1, 0]])\n",
    "cone0 = MachCone(tau=tau,\n",
    "                e1=e2,\n",
    "                e2=e1,\n",
    "                ref_state=np.array([1.0, .6, 2.0, 8.0]))\n",
    "\n",
    "cone0.plot()\n",
    "\n",
    "# e1 = np.array([[0, 0], [1, .7]])\n",
    "# e2 = np.array([[0, 0], [.2, 1.0]])\n",
    "# cone1 = MachCone(tau=.01,\n",
    "#                 e1=e1,\n",
    "#                 e2=e2,\n",
    "#                 ref_state=np.array([1.0, .6, 2.0, 8.0]))\n",
    "\n",
    "# cone1.plot()"
   ]
  },
  {
   "cell_type": "code",
   "execution_count": null,
   "metadata": {},
   "outputs": [],
   "source": [
    "e1 = np.array([[0, 0], [0,  0.02]])\n",
    "e2 = np.array([[0, 0], [0, -0.02]])\n",
    "cone1 = MachCone(tau=.001,\n",
    "                e1=e1,\n",
    "                e2=e2,\n",
    "                ref_state=np.array([1.400, 1.000, .998, 4.000]))\n",
    "\n",
    "cone1.plot()"
   ]
  },
  {
   "cell_type": "code",
   "execution_count": null,
   "metadata": {},
   "outputs": [],
   "source": [
    "e1 = np.array([[-1.000, -.980], [-1.000, -1.000]])\n",
    "e2 = np.array([[-1.000, -.980], [-1.000, -.960]])\n",
    "cone1 = MachCone(tau=1e-6,\n",
    "                e1=e1,\n",
    "                e2=e2,\n",
    "                ref_state=np.array([1.400, -1.000, .998, 4.000]))\n",
    "\n",
    "cone1.plot()"
   ]
  },
  {
   "cell_type": "code",
   "execution_count": null,
   "metadata": {},
   "outputs": [],
   "source": [
    "x = [.2,.8,.9,.3]; x.append(x[0])\n",
    "y = [.2,.2,.8,.8]; y.append(y[0])\n",
    "\n",
    "quad = np.array([x,y])\n",
    "\n",
    "circle = plt.Circle((0.5, 0.5), 0.2, color='grey', fill=False)\n",
    "\n",
    "fig, ax = plt.subplots(figsize=(8,8))\n",
    "edge1 = plt.arrow(x=0,y=0,dx=.5,dy=.5, width=.0025, color='k')\n",
    "\n",
    "plt.plot(quad[0,:],quad[1,:])\n",
    "plt.grid(True)\n",
    "ax.add_artist(circle)\n",
    "ax.add_artist(edge1)\n",
    "plt.show()"
   ]
  },
  {
   "cell_type": "code",
   "execution_count": null,
   "metadata": {},
   "outputs": [],
   "source": []
  },
  {
   "cell_type": "code",
   "execution_count": null,
   "metadata": {},
   "outputs": [],
   "source": []
  },
  {
   "cell_type": "code",
   "execution_count": null,
   "metadata": {},
   "outputs": [],
   "source": []
  },
  {
   "cell_type": "code",
   "execution_count": 38,
   "metadata": {},
   "outputs": [],
   "source": [
    "class Vector(object):\n",
    "\n",
    "    def __init__(self, xy1, xy2):\n",
    "        self.x = np.array([xy1[0],xy2[0]])\n",
    "        self.y = np.array([xy1[1],xy2[1]])\n",
    "        self.dx = self.x[1] - self.x[0]\n",
    "        self.dy = self.y[1] - self.y[0]\n",
    "        self.len = np.sqrt(self.dx**2 + self.dy**2)\n",
    "\n",
    "def vector_circle_intersection(vec_xy, circle_xy, radius):\n",
    "\n",
    "    x0 = vec_xy[0, 0]\n",
    "    y0 = vec_xy[0, 1]\n",
    "    x1 = vec_xy[1, 0]\n",
    "    y1 = vec_xy[1, 1]\n",
    "    r = radius\n",
    "    h = circle_xy[0]\n",
    "    k = circle_xy[1]\n",
    "\n",
    "    a = (x1 - x0)**2 + (y1 - y0)**2\n",
    "    b = 2 * (x1 - x0) * (x0 - h) + 2 * (y1 - y0) * (y0 - k)\n",
    "    c = (x0 - h)**2 + (y0 - k)**2 - r**2\n",
    "\n",
    "    discr = b**2 - 4 * a * c\n",
    "#     print('disc', discr)\n",
    "#     print('c', c)\n",
    "    t = np.zeros(2)\n",
    "    \n",
    "    if discr > 0:\n",
    "        if ((-b - np.sqrt(discr))==0):\n",
    "            t[1] = 1.0\n",
    "        else:\n",
    "            t[1] = (2 * c) / (-b - np.sqrt(discr))\n",
    "    \n",
    "        if ((-b + np.sqrt(discr))==0):\n",
    "            t[0] = 0.0\n",
    "        else:\n",
    "            t[0] = (2 * c) / (-b + np.sqrt(discr))\n",
    "\n",
    "#     print('0', -b - np.sqrt(discr))\n",
    "#     print('1', -b + np.sqrt(discr))\n",
    "#     print('t',t)\n",
    "\n",
    "    n_intersections = np.array([False, False])\n",
    "    for i in range(2):\n",
    "        if 0 < t[i] <= 1:\n",
    "            n_intersections[i] = True\n",
    "\n",
    "    x_t = (x1 - x0) * t + x0\n",
    "    y_t = (y1 - y0) * t + y0\n",
    "\n",
    "    for t_i in t:\n",
    "        plt.plot(x_t, y_t, 's', color='k')\n",
    "\n",
    "    plt.plot(x0, y0, 'o', label='0')\n",
    "    plt.plot(x1, y1, 'o', label='1')\n",
    "    plt.plot([x0, x1], [y0, y1], 'k')\n",
    "\n",
    "    theta = np.linspace(0, 2 * np.pi, 100)\n",
    "    X = r * np.cos(theta) + h\n",
    "    Y = r * np.sin(theta) + k\n",
    "    plt.plot(X, Y)\n",
    "    plt.legend()\n",
    "    plt.gca().set_aspect(\"equal\")\n",
    "    plt.show()\n",
    "    return np.array([[x_t[0], y_t[0]], [x_t[1], y_t[1]]]), n_intersections\n",
    "\n",
    "def intersection_angle(circle_origin_xy, intersection_xy):\n",
    "    angle = np.zeros(2)\n",
    "    dx0 = intersection_xy[0,0] - circle_origin_xy[0]\n",
    "    dx1 = intersection_xy[1,0] - circle_origin_xy[0]\n",
    "    dy0 = intersection_xy[0,1] - circle_origin_xy[1]\n",
    "    dy1 = intersection_xy[1,1] - circle_origin_xy[1]\n",
    "    print(dx0,dy0,dx1,dy1)\n",
    "#     angle_deg[0] = np.rad2deg(np.arctan2(dy0, dx0))\n",
    "#     angle_deg[1] = np.rad2deg(np.arctan2(dy1, dx1))\n",
    "#     for i in range(2):\n",
    "#         if angle_deg[i] < 0: angle_deg[i] += 360 \n",
    "#     return angle_deg\n",
    "\n",
    "    angle[0] = np.arctan2(dy0, dx0)\n",
    "    angle[1] = np.arctan2(dy1, dx1)\n",
    "    for i in range(2):\n",
    "        if angle[i] < 0: angle[i] += 2*np.pi\n",
    "    return angle"
   ]
  },
  {
   "cell_type": "code",
   "execution_count": 27,
   "metadata": {},
   "outputs": [
    {
     "data": {
      "image/png": "[encoded data removed]",
      "text/plain": [
       "<Figure size 432x288 with 1 Axes>"
      ]
     },
     "metadata": {
      "needs_background": "light"
     },
     "output_type": "display_data"
    },
    {
     "data": {
      "text/plain": [
       "array([218.97666002,  79.09582692])"
      ]
     },
     "execution_count": 27,
     "metadata": {},
     "output_type": "execute_result"
    }
   ],
   "source": [
    "h=1;k=1\n",
    "P_prime_xy = [h, k]\n",
    "vec_xy = np.array([[-2+h, -2+k], [1+h, 3+k]])\n",
    "vci = vector_circle_intersection(vec_xy, circle_xy=P_prime_xy, radius=2)\n",
    "intersection_angle(circle_origin_xy=P_prime_xy, intersection_xy=vci[0]) "
   ]
  },
  {
   "cell_type": "code",
   "execution_count": 29,
   "metadata": {},
   "outputs": [
    {
     "data": {
      "image/png": "[encoded data removed]",
      "text/plain": [
       "<Figure size 432x288 with 1 Axes>"
      ]
     },
     "metadata": {
      "needs_background": "light"
     },
     "output_type": "display_data"
    },
    {
     "data": {
      "text/plain": [
       "array([180.,   0.])"
      ]
     },
     "execution_count": 29,
     "metadata": {},
     "output_type": "execute_result"
    }
   ],
   "source": [
    "P_prime_xy = [0, 0]\n",
    "vec_xy = np.array([[-2, 0], [2, 0]])\n",
    "vci = vector_circle_intersection(vec_xy, circle_xy=P_prime_xy, radius=2)\n",
    "intersection_angle(circle_origin_xy=P_prime_xy, intersection_xy=vci[0]) "
   ]
  },
  {
   "cell_type": "code",
   "execution_count": 43,
   "metadata": {},
   "outputs": [
    {
     "data": {
      "image/png": "[encoded data removed]",
      "text/plain": [
       "<Figure size 432x288 with 1 Axes>"
      ]
     },
     "metadata": {
      "needs_background": "light"
     },
     "output_type": "display_data"
    },
    {
     "name": "stdout",
     "output_type": "stream",
     "text": [
      "-2.0 0.0 2.0 0.0\n",
      "[[-1.  1.]\n",
      " [ 3.  1.]]\n",
      "[3.14159265 0.        ]\n"
     ]
    }
   ],
   "source": [
    "P_prime_xy = [1, 1]\n",
    "vec_xy = np.array([[-2, 1], [4, 1]])\n",
    "vci = vector_circle_intersection(vec_xy, circle_xy=P_prime_xy, radius=2)\n",
    "angles = intersection_angle(circle_origin_xy=P_prime_xy, intersection_xy=vci[0])\n",
    "print(vci[0])\n",
    "print(angles)"
   ]
  },
  {
   "cell_type": "code",
   "execution_count": null,
   "metadata": {},
   "outputs": [],
   "source": []
  },
  {
   "cell_type": "code",
   "execution_count": null,
   "metadata": {},
   "outputs": [],
   "source": [
    "P_prime_xy = [1, 1]\n",
    "vec_xy = np.array([[0, 0], [1, 3]])\n",
    "vci = vector_circle_intersection(vec_xy, circle_xy=P_prime_xy, radius=2)\n",
    "print(vci)\n",
    "v1 = Vector(xy1=P_prime_xy, xy2=vci[1]) # xy = [[x,y], [tail,head]]\n",
    "print('angle', np.rad2deg(np.arccos(v1.dx/v1.len)))\n",
    "v2 = Vector(xy1=P_prime_xy, xy2=vci[2]) # xy = [[x,y], [tail,head]]\n",
    "print('angle', np.rad2deg(np.arccos(v2.dx/v2.len)))"
   ]
  },
  {
   "cell_type": "code",
   "execution_count": null,
   "metadata": {},
   "outputs": [],
   "source": [
    "P_prime_xy = [1, 1]\n",
    "vec_xy = np.array([[0, 1], [4, 1]])\n",
    "vci = vector_circle_intersection(vec_xy, circle_xy=P_prime_xy, radius=2)\n",
    "print(vci)\n",
    "v1 = Vector(xy1=P_prime_xy, xy2=vci[1]) # xy = [[x,y], [tail,head]]\n",
    "print('angle', np.rad2deg(np.arccos(v1.dx/v1.len)))\n",
    "v2 = Vector(xy1=P_prime_xy, xy2=vci[2]) # xy = [[x,y], [tail,head]]\n",
    "print('angle', np.rad2deg(np.arccos(v2.dx/v2.len)))"
   ]
  },
  {
   "cell_type": "code",
   "execution_count": 49,
   "metadata": {},
   "outputs": [
    {
     "data": {
      "text/plain": [
       "-1.5707963267948963"
      ]
     },
     "execution_count": 49,
     "metadata": {},
     "output_type": "execute_result"
    }
   ],
   "source": [
    "ie = np.deg2rad(95)\n",
    "ie2 = ie + 2*np.pi\n",
    "ib = np.deg2rad(185)\n",
    "# if ie < ib:\n",
    "#     ie = ie + 2*np.pi\n",
    "(ie-ib)"
   ]
  },
  {
   "cell_type": "code",
   "execution_count": 54,
   "metadata": {},
   "outputs": [
    {
     "name": "stdout",
     "output_type": "stream",
     "text": [
      "-1.9696155060244163\n",
      "-1.9696155060244163\n",
      "-0.3472963553338604\n",
      "-0.3472963553338595\n",
      "0.9090389553440873\n",
      "0.9090389553440877\n",
      "1.0833504408394035\n",
      "1.0833504408394035\n"
     ]
    }
   ],
   "source": [
    "print(np.cos(2*ie) - np.cos(2*ib))\n",
    "print(np.cos(2*ie2) - np.cos(2*ib))\n",
    "\n",
    "print(np.sin(2*ie) - np.sin(2*ib))\n",
    "print(np.sin(2*ie2) - np.sin(2*ib))\n",
    "\n",
    "\n",
    "print(np.cos(ie) - np.cos(ib))\n",
    "print(np.cos(ie2) - np.cos(ib))\n",
    "\n",
    "print(np.sin(ie) - np.sin(ib))\n",
    "print(np.sin(ie2) - np.sin(ib))"
   ]
  },
  {
   "cell_type": "code",
   "execution_count": null,
   "metadata": {},
   "outputs": [],
   "source": []
  },
  {
   "cell_type": "code",
   "execution_count": null,
   "metadata": {},
   "outputs": [],
   "source": []
  }
 ],
 "metadata": {
  "kernelspec": {
   "display_name": "Python 3",
   "language": "python",
   "name": "python3"
  },
  "language_info": {
   "codemirror_mode": {
    "name": "ipython",
    "version": 3
   },
   "file_extension": ".py",
   "mimetype": "text/x-python",
   "name": "python",
   "nbconvert_exporter": "python",
   "pygments_lexer": "ipython3",
   "version": "3.7.3"
  }
 },
 "nbformat": 4,
 "nbformat_minor": 4
}
