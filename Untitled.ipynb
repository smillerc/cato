{
 "cells": [
  {
   "cell_type": "code",
   "execution_count": 1,
   "metadata": {},
   "outputs": [],
   "source": [
    "import numpy as np\n",
    "import matplotlib.pyplot as plt\n",
    "import matplotlib.patches as patches\n",
    "import seaborn as sns\n",
    "sns.set_context('talk')"
   ]
  },
  {
   "cell_type": "code",
   "execution_count": 28,
   "metadata": {},
   "outputs": [
    {
     "name": "stdout",
     "output_type": "stream",
     "text": [
      "incidence -15.6\n"
     ]
    },
    {
     "data": {
      "image/png": "[encoded data removed]",
      "text/plain": [
       "<Figure size 432x432 with 1 Axes>"
      ]
     },
     "metadata": {
      "needs_background": "light"
     },
     "output_type": "display_data"
    },
    {
     "data": {
      "text/plain": [
       "(array([0., 0.]), array([0., 0.]))"
      ]
     },
     "execution_count": 28,
     "metadata": {},
     "output_type": "execute_result"
    }
   ],
   "source": [
    "plt.figure(figsize=(6,6))\n",
    "x1=-1\n",
    "y1=1\n",
    "x2=2\n",
    "y2=2\n",
    "r=.2\n",
    "\n",
    "xi, yi = get_intersection(x1,y1,x2,y2,r)\n",
    "\n",
    "plt.plot(x1,y1, 'o')\n",
    "plt.plot(x2,y2, 'o')\n",
    "plt.plot([x1,x2], [y1,y2], 'k')\n",
    "\n",
    "theta = np.linspace(0, 2*np.pi, 100)\n",
    "X = r*np.cos(theta)\n",
    "Y = r*np.sin(theta)\n",
    "plt.plot(X,Y)\n",
    "\n",
    "plt.plot(xi, yi, 'o')\n",
    "\n",
    "plt.gca().set_aspect(\"equal\")\n",
    "plt.show()\n",
    "\n",
    "\n",
    "xi, yi"
   ]
  },
  {
   "cell_type": "code",
   "execution_count": 26,
   "metadata": {},
   "outputs": [],
   "source": [
    "def get_intersection(x1,y1,x2,y2,r):\n",
    "    dx = x2 - x1\n",
    "    dy = y2 - y1\n",
    "    dr = np.sqrt(dx**2 + dy**2)\n",
    "    D = x1*y2 - x2*y1\n",
    "    \n",
    "    x = np.zeros(2)\n",
    "    y = np.zeros(2)\n",
    "    Delta = (r**2) * (dr**2) - D**2\n",
    "    if Delta > 0:\n",
    "        x[0] = (D*dy + np.sign(dy)*dx*np.sqrt(Delta))/dr**2\n",
    "        x[1] = (D*dy - np.sign(dy)*dx*np.sqrt(Delta))/dr**2\n",
    "\n",
    "        y[0] = (-D*dx + np.abs(dy)*np.sqrt(Delta))/dr**2\n",
    "        y[1] = (-D*dx - np.abs(dy)*np.sqrt(Delta))/dr**2\n",
    "    print('incidence', Delta)\n",
    "    return x,y"
   ]
  },
  {
   "cell_type": "code",
   "execution_count": null,
   "metadata": {},
   "outputs": [],
   "source": []
  }
 ],
 "metadata": {
  "kernelspec": {
   "display_name": "Python 3",
   "language": "python",
   "name": "python3"
  },
  "language_info": {
   "codemirror_mode": {
    "name": "ipython",
    "version": 3
   },
   "file_extension": ".py",
   "mimetype": "text/x-python",
   "name": "python",
   "nbconvert_exporter": "python",
   "pygments_lexer": "ipython3",
   "version": "3.7.3"
  }
 },
 "nbformat": 4,
 "nbformat_minor": 4
}
